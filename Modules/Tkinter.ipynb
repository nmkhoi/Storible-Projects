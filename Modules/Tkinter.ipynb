{
 "cells": [
  {
   "cell_type": "code",
   "execution_count": 20,
   "metadata": {},
   "outputs": [
    {
     "name": "stderr",
     "output_type": "stream",
     "text": [
      "Exception in Tkinter callback\n",
      "Traceback (most recent call last):\n",
      "  File \"c:\\Users\\Admin\\AppData\\Local\\Programs\\Python\\Python311\\Lib\\tkinter\\__init__.py\", line 1948, in __call__\n",
      "    return self.func(*args)\n",
      "           ^^^^^^^^^^^^^^^^\n",
      "  File \"C:\\Users\\Admin\\AppData\\Local\\Temp\\ipykernel_32524\\2620108417.py\", line 21, in load_new\n",
      "    self.another = Window2(self.master)\n",
      "                   ^^^^^^^^^^^^^^^^^^^^\n",
      "  File \"C:\\Users\\Admin\\AppData\\Local\\Temp\\ipykernel_32524\\2620108417.py\", line 30, in __init__\n",
      "    self.master.pack()\n",
      "  File \"c:\\Users\\Admin\\AppData\\Local\\Programs\\Python\\Python311\\Lib\\tkinter\\__init__.py\", line 2452, in pack_configure\n",
      "    self.tk.call(\n",
      "_tkinter.TclError: bad window path name \".!frame\"\n"
     ]
    }
   ],
   "source": [
    "from tkinter import *\n",
    "from tkinter import ttk\n",
    "\n",
    "class Window1:\n",
    "\n",
    "    def __init__(self, master):\n",
    "\n",
    "        # keep `root` in `self.master`\n",
    "        self.master = ttk.Frame(master)\n",
    "        self.master.pack()\n",
    "\n",
    "        ttk.Button(self.master, text = 'Example1',\n",
    "                   command = self.load_new).grid(row = 0, column = 0, padx = 5, pady = 5, sticky = 'e')\n",
    "        ttk.Button(self.master, text = 'Example2',\n",
    "                   command = self.load_new).grid(row = 0, column = 1, padx = 5, pady = 5, sticky = 'w')\n",
    "\n",
    "    def load_new(self):\n",
    "        self.master.destroy()\n",
    "\n",
    "        # use `root` with another class\n",
    "        self.another = Window2(self.master)\n",
    "\n",
    "\n",
    "class Window2:\n",
    "\n",
    "    def __init__(self, master):\n",
    "\n",
    "        # keep `root` in `self.master`\n",
    "        self.master = master\n",
    "        self.master.pack()\n",
    "\n",
    "        ttk.Label(self.master1, text = 'Example')\n",
    "        \n",
    "\n",
    "\n",
    "root = Tk()\n",
    "run = Window1(root)\n",
    "root.mainloop()"
   ]
  },
  {
   "cell_type": "code",
   "execution_count": null,
   "metadata": {},
   "outputs": [],
   "source": []
  }
 ],
 "metadata": {
  "kernelspec": {
   "display_name": "Python 3",
   "language": "python",
   "name": "python3"
  },
  "language_info": {
   "codemirror_mode": {
    "name": "ipython",
    "version": 3
   },
   "file_extension": ".py",
   "mimetype": "text/x-python",
   "name": "python",
   "nbconvert_exporter": "python",
   "pygments_lexer": "ipython3",
   "version": "3.11.0"
  },
  "orig_nbformat": 4
 },
 "nbformat": 4,
 "nbformat_minor": 2
}
