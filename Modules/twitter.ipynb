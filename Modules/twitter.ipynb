{
 "cells": [
  {
   "cell_type": "code",
   "execution_count": 1,
   "metadata": {},
   "outputs": [],
   "source": [
    "from selenium import webdriver\n",
    "from selenium.webdriver.common.keys import Keys\n",
    "from selenium.webdriver.support.ui import Select\n",
    "from selenium.webdriver.support.ui import WebDriverWait\n",
    "from selenium.webdriver.support import expected_conditions as EC\n",
    "from selenium.webdriver.common.by import By\n",
    "from selenium.common.exceptions import TimeoutException, NoSuchElementException\n",
    "from selenium.webdriver.chrome.service import Service\n",
    "from webdriver_manager.chrome import ChromeDriverManager\n",
    "\n",
    "import pandas as pd\n",
    "import numpy as np\n",
    "import io\n",
    "import time\n",
    "import datetime\n",
    "import csv\n",
    "\n",
    "import requests\n",
    "from bs4 import BeautifulSoup"
   ]
  },
  {
   "cell_type": "code",
   "execution_count": 2,
   "metadata": {},
   "outputs": [],
   "source": [
    "driver = webdriver.Chrome(service=Service(ChromeDriverManager().install()))\n",
    "driver.set_page_load_timeout(20)"
   ]
  },
  {
   "cell_type": "code",
   "execution_count": 3,
   "metadata": {},
   "outputs": [],
   "source": [
    "driver.get('https://twitter.com/i/flow/login')\n",
    "time.sleep(3)"
   ]
  },
  {
   "cell_type": "code",
   "execution_count": 4,
   "metadata": {},
   "outputs": [],
   "source": [
    "#jakejills88591\n",
    "\n",
    "email_holder = driver.find_element(by=By.TAG_NAME, value='input')\n",
    "email_holder.send_keys('nmkhoi.iac@gmail.com')\n",
    "time.sleep(3)\n",
    "\n",
    "next_button = driver.find_element(by=By.XPATH, value='//*[@id=\"layers\"]/div/div/div/div/div/div/div[2]/div[2]/div/div/div[2]/div[2]/div/div/div/div[6]/div/span')\n",
    "next_button.click()\n",
    "time.sleep(3)\n",
    "\n",
    "username_holder = driver.find_element(by=By.TAG_NAME, value='input')\n",
    "username_holder.send_keys('jakejills88591')\n",
    "time.sleep(3)\n",
    "\n",
    "next_button = driver.find_element(by=By.XPATH, value='//*[@id=\"layers\"]/div/div/div/div/div/div/div[2]/div[2]/div/div/div[2]/div[2]/div[2]/div/div/div/div')\n",
    "next_button.click()\n",
    "time.sleep(3)\n",
    "\n",
    "password_holder = driver.find_elements(by=By.TAG_NAME, value='input')[1]\n",
    "password_holder.send_keys('Storible456')\n",
    "time.sleep(3)\n",
    "\n",
    "login_button = driver.find_element(by=By.XPATH, value='//*[@id=\"layers\"]/div/div/div/div/div/div/div[2]/div[2]/div/div/div[2]/div[2]/div[2]/div/div[1]/div/div/div/div/span')\n",
    "login_button.click()\n",
    "time.sleep(10)"
   ]
  },
  {
   "cell_type": "code",
   "execution_count": 26,
   "metadata": {},
   "outputs": [],
   "source": [
    "# search_box = [i for i in driver.find_elements(by=By.TAG_NAME, value='input') if i.get_attribute('placeholder') == 'Search Twitter'][0]"
   ]
  },
  {
   "cell_type": "code",
   "execution_count": 15,
   "metadata": {},
   "outputs": [
    {
     "name": "stdout",
     "output_type": "stream",
     "text": [
      "https://twitter.com/search?q=%23chatgpt&src=typed_query\n"
     ]
    }
   ],
   "source": [
    "query = '#chatgpt'\n",
    "query = query.replace('#','%23')\n",
    "query = query.replace('@','%40')\n",
    "url_query = 'https://twitter.com/search?q={}&src=typed_query'.format(query)\n",
    "driver.get(url_query)"
   ]
  },
  {
   "cell_type": "code",
   "execution_count": 28,
   "metadata": {},
   "outputs": [],
   "source": [
    "import re\n",
    "hashtag_pattern = r'#\\S+'\n",
    "username_pattern = r'@\\S+'\n",
    "url_pattern = r'http.+?(?=\"|<)'"
   ]
  },
  {
   "cell_type": "code",
   "execution_count": 29,
   "metadata": {},
   "outputs": [],
   "source": [
    "def scrolling():\n",
    "    SCROLL_PAUSE_TIME = 0.5\n",
    "\n",
    "    driver.execute_script(\"window.scrollTo(0, document.body.scrollHeight);\")\n",
    "\n",
    "    # Wait to load page\n",
    "    time.sleep(SCROLL_PAUSE_TIME)\n",
    "\n",
    "    # Calculate new scroll height and compare with last scroll height\n",
    "    new_height = driver.execute_script(\"return document.body.scrollHeight\")"
   ]
  },
  {
   "cell_type": "code",
   "execution_count": 30,
   "metadata": {},
   "outputs": [],
   "source": [
    "max_tweet = 10\n",
    "def scraping():\n",
    "    final_data = pd.DataFrame(columns=['username','text','date','hashtag','external_links','reply_count','retweet_count','like_count','mention_users'])\n",
    "    while len(final_data) <= max_tweet:\n",
    "        articles = driver.find_elements(by=By.TAG_NAME, value='article')\n",
    "        for article in articles:\n",
    "            try:\n",
    "                username = re.findall(username_pattern,[i.text for i in article.find_elements(by=By.TAG_NAME, value='div') if i.get_attribute('data-testid') == 'User-Name'][0])[0]\n",
    "                text = [i.text for i in article.find_elements(by=By.TAG_NAME, value='div') if i.get_attribute('data-testid') == 'tweetText'][0]\n",
    "                date = article.find_element(by=By.TAG_NAME, value='time').get_attribute('datetime')\n",
    "                date = date[:date.find('T')]\n",
    "                hashtag = re.findall(hashtag_pattern,text)\n",
    "                external_links = re.findall(url_pattern,article.text)\n",
    "                reply_count = [i.text for i in article.find_elements(by=By.TAG_NAME, value='div') if i.get_attribute('data-testid') == 'reply'][0]\n",
    "                retweet_count = [i.text for i in article.find_elements(by=By.TAG_NAME, value='div') if i.get_attribute('data-testid') == 'retweet'][0]\n",
    "                like_count = [i.text for i in article.find_elements(by=By.TAG_NAME, value='div') if i.get_attribute('data-testid') == 'like'][0]\n",
    "                mention_users = re.findall(username_pattern,text)\n",
    "\n",
    "                final_data = pd.concat([final_data, pd.DataFrame.from_records([{\n",
    "                    'username':username,\n",
    "                    'text':text,\n",
    "                    'date':date,\n",
    "                    'hashtag':hashtag,\n",
    "                    'external_links':external_links,\n",
    "                    'reply_count':reply_count,\n",
    "                    'retweet_count':retweet_count,\n",
    "                    'like_count':like_count,\n",
    "                    'mention_users':mention_users\n",
    "                    }])])\n",
    "                time.sleep(2)\n",
    "            except Exception as e:\n",
    "                continue\n",
    "        \n",
    "        final_data.loc[final_data.astype(str).drop_duplicates().index]\n",
    "        scrolling()\n",
    "        time.sleep(5)\n",
    "    # driver.quit()\n",
    "    return final_data.head(max_tweet)"
   ]
  },
  {
   "cell_type": "code",
   "execution_count": 31,
   "metadata": {},
   "outputs": [],
   "source": [
    "final_data = scraping()"
   ]
  },
  {
   "cell_type": "code",
   "execution_count": 32,
   "metadata": {},
   "outputs": [
    {
     "data": {
      "text/plain": [
       "username          object\n",
       "text              object\n",
       "date              object\n",
       "hashtag           object\n",
       "external_links    object\n",
       "reply_count       object\n",
       "retweet_count     object\n",
       "like_count        object\n",
       "mention_users     object\n",
       "dtype: object"
      ]
     },
     "execution_count": 32,
     "metadata": {},
     "output_type": "execute_result"
    }
   ],
   "source": [
    "final_data.dtypes"
   ]
  },
  {
   "cell_type": "code",
   "execution_count": 33,
   "metadata": {},
   "outputs": [
    {
     "data": {
      "text/plain": [
       "10"
      ]
     },
     "execution_count": 33,
     "metadata": {},
     "output_type": "execute_result"
    }
   ],
   "source": [
    "len(final_data)"
   ]
  },
  {
   "cell_type": "code",
   "execution_count": 34,
   "metadata": {},
   "outputs": [
    {
     "data": {
      "text/html": [
       "<div>\n",
       "<style scoped>\n",
       "    .dataframe tbody tr th:only-of-type {\n",
       "        vertical-align: middle;\n",
       "    }\n",
       "\n",
       "    .dataframe tbody tr th {\n",
       "        vertical-align: top;\n",
       "    }\n",
       "\n",
       "    .dataframe thead th {\n",
       "        text-align: right;\n",
       "    }\n",
       "</style>\n",
       "<table border=\"1\" class=\"dataframe\">\n",
       "  <thead>\n",
       "    <tr style=\"text-align: right;\">\n",
       "      <th></th>\n",
       "      <th>username</th>\n",
       "      <th>text</th>\n",
       "      <th>date</th>\n",
       "      <th>hashtag</th>\n",
       "      <th>external_links</th>\n",
       "      <th>reply_count</th>\n",
       "      <th>retweet_count</th>\n",
       "      <th>like_count</th>\n",
       "      <th>mention_users</th>\n",
       "    </tr>\n",
       "  </thead>\n",
       "  <tbody>\n",
       "    <tr>\n",
       "      <th>0</th>\n",
       "      <td>@ed__marquez</td>\n",
       "      <td>We’re verified in the #ChatGPT #Plugins Store ...</td>\n",
       "      <td>2023-06-25</td>\n",
       "      <td>[#ChatGPT, #Plugins]</td>\n",
       "      <td>[]</td>\n",
       "      <td>12</td>\n",
       "      <td>90</td>\n",
       "      <td>246</td>\n",
       "      <td>[@Hedera]</td>\n",
       "    </tr>\n",
       "    <tr>\n",
       "      <th>0</th>\n",
       "      <td>@DiptiOjha16</td>\n",
       "      <td>Do you know? now you can even generate power p...</td>\n",
       "      <td>2023-06-19</td>\n",
       "      <td>[#ChatGPT, #AI, #technology]</td>\n",
       "      <td>[]</td>\n",
       "      <td>6</td>\n",
       "      <td>8</td>\n",
       "      <td>34</td>\n",
       "      <td>[]</td>\n",
       "    </tr>\n",
       "    <tr>\n",
       "      <th>0</th>\n",
       "      <td>@TheAdityaPatro</td>\n",
       "      <td>Fascinating #AI developed artwork at the MoMA ...</td>\n",
       "      <td>2023-06-23</td>\n",
       "      <td>[#AI, #OPENAI, #GenerativeAI, #ChatGPT, #DataS...</td>\n",
       "      <td>[]</td>\n",
       "      <td>15</td>\n",
       "      <td>94</td>\n",
       "      <td>177</td>\n",
       "      <td>[@refikanadol]</td>\n",
       "    </tr>\n",
       "    <tr>\n",
       "      <th>0</th>\n",
       "      <td>@AminaAkka</td>\n",
       "      <td>4936223put same list \\n#飞机号 #ChatGPT</td>\n",
       "      <td>2023-06-26</td>\n",
       "      <td>[#飞机号, #ChatGPT]</td>\n",
       "      <td>[]</td>\n",
       "      <td>14</td>\n",
       "      <td>11</td>\n",
       "      <td>11</td>\n",
       "      <td>[]</td>\n",
       "    </tr>\n",
       "    <tr>\n",
       "      <th>0</th>\n",
       "      <td>@iampragyansh</td>\n",
       "      <td>In this World of AI advancement\\nWhat if we co...</td>\n",
       "      <td>2023-06-24</td>\n",
       "      <td>[#elonmusk, #chatgpt, #meditation, #ai, #shiva...</td>\n",
       "      <td>[]</td>\n",
       "      <td>10</td>\n",
       "      <td>30</td>\n",
       "      <td>224</td>\n",
       "      <td>[]</td>\n",
       "    </tr>\n",
       "    <tr>\n",
       "      <th>0</th>\n",
       "      <td>@ant0723</td>\n",
       "      <td>The #ChatGPT#Plugin Store officially has 500 p...</td>\n",
       "      <td>2023-06-21</td>\n",
       "      <td>[#ChatGPT#Plugin]</td>\n",
       "      <td>[]</td>\n",
       "      <td>5</td>\n",
       "      <td>5</td>\n",
       "      <td>44</td>\n",
       "      <td>[]</td>\n",
       "    </tr>\n",
       "    <tr>\n",
       "      <th>0</th>\n",
       "      <td>@AminaAkka</td>\n",
       "      <td>4351710analysis cup crime \\n#飞机号 #ChatGPT</td>\n",
       "      <td>2023-06-26</td>\n",
       "      <td>[#飞机号, #ChatGPT]</td>\n",
       "      <td>[]</td>\n",
       "      <td>14</td>\n",
       "      <td>11</td>\n",
       "      <td>11</td>\n",
       "      <td>[]</td>\n",
       "    </tr>\n",
       "    <tr>\n",
       "      <th>0</th>\n",
       "      <td>@DrasmaJabeen1</td>\n",
       "      <td>Using #ChatGPT for language editing in scienti...</td>\n",
       "      <td>2023-06-24</td>\n",
       "      <td>[#ChatGPT, #phd, #AcademicTwitter, #AcademicCh...</td>\n",
       "      <td>[]</td>\n",
       "      <td>8</td>\n",
       "      <td>112</td>\n",
       "      <td>403</td>\n",
       "      <td>[]</td>\n",
       "    </tr>\n",
       "    <tr>\n",
       "      <th>0</th>\n",
       "      <td>@sonu_monika</td>\n",
       "      <td>#ChatGPT Prompts Cheat Sheet for beginners by ...</td>\n",
       "      <td>2023-06-20</td>\n",
       "      <td>[#ChatGPT, #ArtificialIntelligence, #automatio...</td>\n",
       "      <td>[]</td>\n",
       "      <td>10</td>\n",
       "      <td>40</td>\n",
       "      <td>80</td>\n",
       "      <td>[]</td>\n",
       "    </tr>\n",
       "    <tr>\n",
       "      <th>0</th>\n",
       "      <td>@ilda113100</td>\n",
       "      <td>2091009want cut catch \\n#ChatGPT账号 #ChatGPT</td>\n",
       "      <td>2023-06-26</td>\n",
       "      <td>[#ChatGPT账号, #ChatGPT]</td>\n",
       "      <td>[]</td>\n",
       "      <td>12</td>\n",
       "      <td>10</td>\n",
       "      <td>10</td>\n",
       "      <td>[]</td>\n",
       "    </tr>\n",
       "  </tbody>\n",
       "</table>\n",
       "</div>"
      ],
      "text/plain": [
       "          username                                               text  \\\n",
       "0     @ed__marquez  We’re verified in the #ChatGPT #Plugins Store ...   \n",
       "0     @DiptiOjha16  Do you know? now you can even generate power p...   \n",
       "0  @TheAdityaPatro  Fascinating #AI developed artwork at the MoMA ...   \n",
       "0       @AminaAkka               4936223put same list \\n#飞机号 #ChatGPT   \n",
       "0    @iampragyansh  In this World of AI advancement\\nWhat if we co...   \n",
       "0         @ant0723  The #ChatGPT#Plugin Store officially has 500 p...   \n",
       "0       @AminaAkka          4351710analysis cup crime \\n#飞机号 #ChatGPT   \n",
       "0   @DrasmaJabeen1  Using #ChatGPT for language editing in scienti...   \n",
       "0     @sonu_monika  #ChatGPT Prompts Cheat Sheet for beginners by ...   \n",
       "0      @ilda113100        2091009want cut catch \\n#ChatGPT账号 #ChatGPT   \n",
       "\n",
       "         date                                            hashtag  \\\n",
       "0  2023-06-25                               [#ChatGPT, #Plugins]   \n",
       "0  2023-06-19                       [#ChatGPT, #AI, #technology]   \n",
       "0  2023-06-23  [#AI, #OPENAI, #GenerativeAI, #ChatGPT, #DataS...   \n",
       "0  2023-06-26                                   [#飞机号, #ChatGPT]   \n",
       "0  2023-06-24  [#elonmusk, #chatgpt, #meditation, #ai, #shiva...   \n",
       "0  2023-06-21                                  [#ChatGPT#Plugin]   \n",
       "0  2023-06-26                                   [#飞机号, #ChatGPT]   \n",
       "0  2023-06-24  [#ChatGPT, #phd, #AcademicTwitter, #AcademicCh...   \n",
       "0  2023-06-20  [#ChatGPT, #ArtificialIntelligence, #automatio...   \n",
       "0  2023-06-26                             [#ChatGPT账号, #ChatGPT]   \n",
       "\n",
       "  external_links reply_count retweet_count like_count   mention_users  \n",
       "0             []          12            90        246       [@Hedera]  \n",
       "0             []           6             8         34              []  \n",
       "0             []          15            94        177  [@refikanadol]  \n",
       "0             []          14            11         11              []  \n",
       "0             []          10            30        224              []  \n",
       "0             []           5             5         44              []  \n",
       "0             []          14            11         11              []  \n",
       "0             []           8           112        403              []  \n",
       "0             []          10            40         80              []  \n",
       "0             []          12            10         10              []  "
      ]
     },
     "execution_count": 34,
     "metadata": {},
     "output_type": "execute_result"
    }
   ],
   "source": [
    "final_data"
   ]
  },
  {
   "cell_type": "code",
   "execution_count": 1,
   "metadata": {},
   "outputs": [
    {
     "name": "stdout",
     "output_type": "stream",
     "text": [
      "yes\n"
     ]
    }
   ],
   "source": [
    "text = '@abcd'\n",
    "if '@' in text:\n",
    "    print('yes')"
   ]
  },
  {
   "cell_type": "code",
   "execution_count": 3,
   "metadata": {},
   "outputs": [
    {
     "name": "stdout",
     "output_type": "stream",
     "text": [
      "1\n"
     ]
    }
   ],
   "source": [
    "if text[0] == '@':\n",
    "    print(1)"
   ]
  },
  {
   "cell_type": "code",
   "execution_count": null,
   "metadata": {},
   "outputs": [],
   "source": []
  }
 ],
 "metadata": {
  "kernelspec": {
   "display_name": "Python 3",
   "language": "python",
   "name": "python3"
  },
  "language_info": {
   "codemirror_mode": {
    "name": "ipython",
    "version": 3
   },
   "file_extension": ".py",
   "mimetype": "text/x-python",
   "name": "python",
   "nbconvert_exporter": "python",
   "pygments_lexer": "ipython3",
   "version": "3.11.0"
  },
  "orig_nbformat": 4
 },
 "nbformat": 4,
 "nbformat_minor": 2
}
