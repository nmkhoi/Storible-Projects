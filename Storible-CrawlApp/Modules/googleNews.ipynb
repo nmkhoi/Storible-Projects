{
 "cells": [
  {
   "cell_type": "code",
   "execution_count": 1,
   "metadata": {},
   "outputs": [],
   "source": [
    "from selenium import webdriver\n",
    "from selenium.webdriver.common.keys import Keys\n",
    "from selenium.webdriver.support.ui import Select\n",
    "from selenium.webdriver.support.ui import WebDriverWait\n",
    "from selenium.webdriver.support import expected_conditions as EC\n",
    "from selenium.webdriver.common.by import By\n",
    "from selenium.common.exceptions import TimeoutException, NoSuchElementException\n",
    "from selenium.webdriver.chrome.service import Service\n",
    "from webdriver_manager.chrome import ChromeDriverManager\n",
    "\n",
    "import pandas as pd\n",
    "import numpy as np\n",
    "import io\n",
    "import time\n",
    "import datetime\n",
    "import csv"
   ]
  },
  {
   "cell_type": "code",
   "execution_count": 2,
   "metadata": {},
   "outputs": [
    {
     "name": "stderr",
     "output_type": "stream",
     "text": [
      "C:\\Users\\Admin\\AppData\\Local\\Temp\\ipykernel_9932\\2074395763.py:3: DeprecationWarning: executable_path has been deprecated, please pass in a Service object\n",
      "  driver = webdriver.Chrome(executable_path=ChromeDriverManager(version=\"114.0.5735.16\").install(),options=options)\n"
     ]
    }
   ],
   "source": [
    "options = webdriver.ChromeOptions()\n",
    "options.add_argument(\"--lang=vi\")\n",
    "driver = webdriver.Chrome(executable_path='chromedriver-win64\\chromedriver.exe',options=options)\n",
    "driver.set_page_load_timeout(20)"
   ]
  },
  {
   "cell_type": "code",
   "execution_count": 3,
   "metadata": {},
   "outputs": [],
   "source": [
    "driver.get('https://www.google.com.vn/')\n",
    "time.sleep(3)"
   ]
  },
  {
   "cell_type": "code",
   "execution_count": 4,
   "metadata": {},
   "outputs": [],
   "source": [
    "search = driver.find_elements(by=By.TAG_NAME, value='textarea')[0]\n",
    "\n",
    "search.send_keys('school gun')\n",
    "search.submit()"
   ]
  },
  {
   "cell_type": "code",
   "execution_count": 7,
   "metadata": {},
   "outputs": [
    {
     "data": {
      "text/plain": [
       "'Do Armed Guards Prevent School Shootings?'"
      ]
     },
     "execution_count": 7,
     "metadata": {},
     "output_type": "execute_result"
    }
   ],
   "source": [
    "links = driver.find_elements(by=By.CLASS_NAME, value='SoaBEf')\n",
    "url = links[0].find_elements(by=By.TAG_NAME, value='a')[0].get_attribute('href')\n",
    "headline = links[2].find_elements(by=By.TAG_NAME, value='div')[1].text.split('\\n')[1].title()\n",
    "headline"
   ]
  },
  {
   "cell_type": "code",
   "execution_count": null,
   "metadata": {},
   "outputs": [],
   "source": [
    "table = driver.find_element(by=By.TAG_NAME, value='table')\n",
    "page = table.find_elements(by=By.TAG_NAME, value='td')\n",
    "page"
   ]
  },
  {
   "cell_type": "code",
   "execution_count": null,
   "metadata": {},
   "outputs": [],
   "source": [
    "driver.execute_script(\"window.scrollTo(0, document.body.scrollHeight);\")"
   ]
  },
  {
   "cell_type": "code",
   "execution_count": 49,
   "metadata": {},
   "outputs": [],
   "source": [
    "def time_setting():\n",
    "    tools = driver.find_element(by=By.XPATH, value='//*[@id=\"uddia_1\"]/div')\n",
    "    tools.click()\n",
    "\n",
    "    time = driver.find_element(by=By.XPATH, value='//*[@id=\"tn_1\"]/span[2]/g-popup/div[1]/div')\n",
    "    time.click()\n",
    "\n",
    "    menu = driver.find_element(by=By.XPATH, value='//*[@id=\"lb\"]/div/g-menu')\n",
    "    item = menu.find_elements(by=By.TAG_NAME, value='g-menu-item')\n",
    "    item[1].text"
   ]
  },
  {
   "cell_type": "code",
   "execution_count": 6,
   "metadata": {},
   "outputs": [],
   "source": [
    "driver.find_element(by=By.XPATH, value='//*[@id=\"uddia_1\"]/div').click()"
   ]
  },
  {
   "cell_type": "code",
   "execution_count": 7,
   "metadata": {},
   "outputs": [],
   "source": [
    "dropdown = driver.find_elements(by=By.CLASS_NAME, value='KTBKoe')\n",
    "time = [i for i in dropdown if i.text == 'Gần đây']\n",
    "time[0].click()"
   ]
  },
  {
   "cell_type": "code",
   "execution_count": 57,
   "metadata": {},
   "outputs": [],
   "source": [
    "time = driver.find_element(by=By.XPATH, value='//*[@id=\"tn_1\"]/span[2]/g-popup/div[1]/div')\n",
    "time.click()"
   ]
  },
  {
   "cell_type": "code",
   "execution_count": 8,
   "metadata": {},
   "outputs": [],
   "source": [
    "menu = driver.find_element(by=By.XPATH, value='//*[@id=\"lb\"]/div/g-menu')\n",
    "item = menu.find_elements(by=By.TAG_NAME, value='g-menu-item')\n",
    "item[7].click()"
   ]
  },
  {
   "cell_type": "code",
   "execution_count": 61,
   "metadata": {},
   "outputs": [
    {
     "data": {
      "text/plain": [
       "['Gần đây',\n",
       " 'Giờ qua',\n",
       " '24 giờ qua',\n",
       " 'Tuần qua',\n",
       " 'Tháng qua',\n",
       " 'Năm qua',\n",
       " 'Kho lưu trữ',\n",
       " 'Phạm vi tùy chỉnh...']"
      ]
     },
     "execution_count": 61,
     "metadata": {},
     "output_type": "execute_result"
    }
   ],
   "source": [
    "menu = driver.find_element(by=By.XPATH, value='//*[@id=\"lb\"]/div/g-menu')\n",
    "item = menu.find_elements(by=By.TAG_NAME, value='g-menu-item')\n",
    "[item[i].text for i in range(0,len(item))]"
   ]
  },
  {
   "cell_type": "code",
   "execution_count": 5,
   "metadata": {},
   "outputs": [],
   "source": [
    "def googleNews(query):\n",
    "\n",
    "    driver = webdriver.Chrome(service=Service(ChromeDriverManager().install()))\n",
    "    driver.set_page_load_timeout(20)\n",
    "\n",
    "    driver.get('https://www.google.com.vn/')\n",
    "    time.sleep(5)\n",
    "    \n",
    "    search = driver.find_elements(by=By.TAG_NAME, value='textarea')[0]\n",
    "    search.send_keys(str(query))\n",
    "    search.submit()\n",
    "    time.sleep(5)\n",
    "\n",
    "    news = driver.find_element(by=By.LINK_TEXT, value='Tin tức')\n",
    "    news.click()\n",
    "    time.sleep(5)\n",
    "\n",
    "    final_data = pd.DataFrame(columns=['headline','link'])\n",
    "    try:\n",
    "        for i in range(1,4):\n",
    "            driver.execute_script(\"window.scrollTo(0, document.body.scrollHeight);\")\n",
    "            time.sleep(3)\n",
    "            table = driver.find_element(by=By.TAG_NAME, value='table')\n",
    "            page = table.find_elements(by=By.TAG_NAME, value='td')\n",
    "            page[i].click()\n",
    "            time.sleep(3)\n",
    "\n",
    "            links = driver.find_elements(by=By.CLASS_NAME, value='SoaBEf')\n",
    "            for link in links:\n",
    "                url = link.find_elements(by=By.TAG_NAME, value='a')[0].get_attribute('href')\n",
    "                headline = link.find_elements(by=By.TAG_NAME, value='div')[1].text.split('\\n')[1].title()\n",
    "\n",
    "                final_data = pd.concat([final_data, pd.DataFrame.from_records([{\n",
    "                    'headline':headline,\n",
    "                    'link':url\n",
    "                    }])])\n",
    "    except Exception as e:\n",
    "        pass\n",
    "    return final_data"
   ]
  },
  {
   "cell_type": "code",
   "execution_count": 6,
   "metadata": {},
   "outputs": [
    {
     "data": {
      "text/html": [
       "<div>\n",
       "<style scoped>\n",
       "    .dataframe tbody tr th:only-of-type {\n",
       "        vertical-align: middle;\n",
       "    }\n",
       "\n",
       "    .dataframe tbody tr th {\n",
       "        vertical-align: top;\n",
       "    }\n",
       "\n",
       "    .dataframe thead th {\n",
       "        text-align: right;\n",
       "    }\n",
       "</style>\n",
       "<table border=\"1\" class=\"dataframe\">\n",
       "  <thead>\n",
       "    <tr style=\"text-align: right;\">\n",
       "      <th></th>\n",
       "      <th>headline</th>\n",
       "      <th>link</th>\n",
       "    </tr>\n",
       "  </thead>\n",
       "  <tbody>\n",
       "    <tr>\n",
       "      <th>0</th>\n",
       "      <td>Chatgpt Và Low-Code: Động Lực Kinh Doanh Từ Cô...</td>\n",
       "      <td>https://cafef.vn/chatgpt-va-low-code-dong-luc-...</td>\n",
       "    </tr>\n",
       "    <tr>\n",
       "      <th>0</th>\n",
       "      <td>Baidu Tuyên Bố Ernie Bot Đánh Bại Chatgpt Tron...</td>\n",
       "      <td>https://vneconomy.vn/techconnect//baidu-tuyen-...</td>\n",
       "    </tr>\n",
       "    <tr>\n",
       "      <th>0</th>\n",
       "      <td>Công Ty Mẹ Của Tiktok Phát Triển Chatbot Ai Th...</td>\n",
       "      <td>https://laodong.vn/cong-nghe/cong-ty-me-cua-ti...</td>\n",
       "    </tr>\n",
       "    <tr>\n",
       "      <th>0</th>\n",
       "      <td>Chatgpt Và Ai Sáng Tạo: Phải Làm Gì Để Nâng Ca...</td>\n",
       "      <td>https://vnreview.vn/thread/chatgpt-va-ai-sang-...</td>\n",
       "    </tr>\n",
       "    <tr>\n",
       "      <th>0</th>\n",
       "      <td>Ernie 3.5 Của Baidu Có Thực Sư Vượt Trội Hơn C...</td>\n",
       "      <td>https://genk.vn/ernie-35-cua-baidu-co-thuc-su-...</td>\n",
       "    </tr>\n",
       "    <tr>\n",
       "      <th>0</th>\n",
       "      <td>Chatgpt Sắp Giành Hết Việc Của Nhân Viên Bán X...</td>\n",
       "      <td>https://xe.baogiaothong.vn/chatgpt-sap-gianh-h...</td>\n",
       "    </tr>\n",
       "    <tr>\n",
       "      <th>0</th>\n",
       "      <td>Sử Dụng Chatgpt Để Dự Đoán Giải Độc Đắc Như Vi...</td>\n",
       "      <td>https://www.techz.vn/189-723-1-su-dung-chatgpt...</td>\n",
       "    </tr>\n",
       "    <tr>\n",
       "      <th>0</th>\n",
       "      <td>Chatgpt Vẫn Không Phù Hợp Với Con Người Khi Nó...</td>\n",
       "      <td>https://vnreview.vn/thread/chatgpt-van-khong-p...</td>\n",
       "    </tr>\n",
       "    <tr>\n",
       "      <th>0</th>\n",
       "      <td>Chatgpt Thua Chatbot Baidu Ở Điểm Nào?</td>\n",
       "      <td>https://thanhnien.vn/chatgpt-thua-chatbot-baid...</td>\n",
       "    </tr>\n",
       "    <tr>\n",
       "      <th>0</th>\n",
       "      <td>Apple Lập Kỷ Lục Vốn Hoá Mới, Công Ty Trung Qu...</td>\n",
       "      <td>https://vietnamnet.vn/apple-lap-ky-luc-von-hoa...</td>\n",
       "    </tr>\n",
       "    <tr>\n",
       "      <th>0</th>\n",
       "      <td>Baidu Nói Chatbot Của Họ Thắng Chatgpt</td>\n",
       "      <td>https://vnexpress.net/baidu-noi-chatbot-cua-ho...</td>\n",
       "    </tr>\n",
       "    <tr>\n",
       "      <th>0</th>\n",
       "      <td>Sốc! Chatgpt Làm Bài Thi Ngữ Văn Tốt Nghiệp Th...</td>\n",
       "      <td>https://vnreview.vn/thread/soc-chatgpt-lam-bai...</td>\n",
       "    </tr>\n",
       "    <tr>\n",
       "      <th>0</th>\n",
       "      <td>Trích 'Muôn Kiếp Nhân Sinh 3': Chatgpt Hay Bộ ...</td>\n",
       "      <td>https://vnexpress.net/trich-muon-kiep-nhan-sin...</td>\n",
       "    </tr>\n",
       "    <tr>\n",
       "      <th>0</th>\n",
       "      <td>Cảnh Giác Với Chiêu Trò Lợi Dụng Chatgpt Để Xu...</td>\n",
       "      <td>https://dangcongsan.vn/tu-tuong-van-hoa/canh-g...</td>\n",
       "    </tr>\n",
       "    <tr>\n",
       "      <th>0</th>\n",
       "      <td>Chatgpt - Cuộc Vui Chưa Tày Gang? - Tuổi Trẻ O...</td>\n",
       "      <td>https://tuoitre.vn/chatgpt-cuoc-vui-chua-tay-g...</td>\n",
       "    </tr>\n",
       "    <tr>\n",
       "      <th>0</th>\n",
       "      <td>Vì Sao Công Cụ Chatgpt Lại Phát Triển Nhanh Nh...</td>\n",
       "      <td>https://www.qdnd.vn/giao-duc-khoa-hoc/cac-van-...</td>\n",
       "    </tr>\n",
       "    <tr>\n",
       "      <th>0</th>\n",
       "      <td>Chatgpt Có Ý Nghĩa Gì Đối Với Tương Lai Của Cá...</td>\n",
       "      <td>https://vneconomy.vn/chatgpt-co-y-nghia-gi-doi...</td>\n",
       "    </tr>\n",
       "    <tr>\n",
       "      <th>0</th>\n",
       "      <td>Thủ Đoạn Lợi Dụng Chatgpt Để Xuyên Tạc, Chống ...</td>\n",
       "      <td>https://cand.com.vn/Chong-dien-bien-hoa-binh/t...</td>\n",
       "    </tr>\n",
       "    <tr>\n",
       "      <th>0</th>\n",
       "      <td>Công Ty Trung Quốc Tuyên Bố Sở Hữu Chatbot Vượ...</td>\n",
       "      <td>https://cafef.vn/cong-ty-trung-quoc-tuyen-bo-s...</td>\n",
       "    </tr>\n",
       "    <tr>\n",
       "      <th>0</th>\n",
       "      <td>Khai Thác Tối Đa Chatgpt: Đây Là Những Lời Nhắ...</td>\n",
       "      <td>https://vnreview.vn/thread/khai-thac-toi-da-ch...</td>\n",
       "    </tr>\n",
       "    <tr>\n",
       "      <th>0</th>\n",
       "      <td>Giải Pháp Khi Chatgpt Viết Giáo Trình Cho 20 B...</td>\n",
       "      <td>https://thanhnien.vn/giai-phap-khi-chatgpt-vie...</td>\n",
       "    </tr>\n",
       "    <tr>\n",
       "      <th>0</th>\n",
       "      <td>Lưu Ý Khi Người Việt Mua, Sử Dụng Tài Khoản Ch...</td>\n",
       "      <td>https://vneconomy.vn/luu-y-khi-nguoi-viet-mua-...</td>\n",
       "    </tr>\n",
       "    <tr>\n",
       "      <th>0</th>\n",
       "      <td>Người Việt Có Chịu Chi Tiền Cho Chatgpt Plus?</td>\n",
       "      <td>https://tuoitre.vn/nguoi-viet-co-chiu-chi-tien...</td>\n",
       "    </tr>\n",
       "    <tr>\n",
       "      <th>0</th>\n",
       "      <td>Chatgpt Bộc Lộ Điểm Yếu Ai Của Trung Quốc</td>\n",
       "      <td>https://vnexpress.net/chatgpt-boc-lo-diem-yeu-...</td>\n",
       "    </tr>\n",
       "    <tr>\n",
       "      <th>0</th>\n",
       "      <td>Người Trẻ Làm It Có Sợ Chatgpt “Chiếm” Việc Tr...</td>\n",
       "      <td>https://thanhnien.vn/nguoi-tre-lam-it-co-so-ch...</td>\n",
       "    </tr>\n",
       "    <tr>\n",
       "      <th>0</th>\n",
       "      <td>Hiểu Và Kỳ Vọng Đúng Về Chatgpt - Tuổi Trẻ Online</td>\n",
       "      <td>https://tuoitre.vn/hieu-va-ky-vong-dung-ve-cha...</td>\n",
       "    </tr>\n",
       "    <tr>\n",
       "      <th>0</th>\n",
       "      <td>Chatgpt Sập Diện Rộng</td>\n",
       "      <td>https://vnexpress.net/chatgpt-sap-dien-rong-45...</td>\n",
       "    </tr>\n",
       "    <tr>\n",
       "      <th>0</th>\n",
       "      <td>Viện Trưởng Viện Cntt Nói Về Cách Ứng Xử Với C...</td>\n",
       "      <td>https://baochinhphu.vn/ung-xu-the-nao-voi-chat...</td>\n",
       "    </tr>\n",
       "    <tr>\n",
       "      <th>0</th>\n",
       "      <td>Chatgpt Và Cuộc Cạnh Tranh Trí Tuệ Nhân Tạo Gi...</td>\n",
       "      <td>https://www.qdnd.vn/giao-duc-khoa-hoc/tin-tuc/...</td>\n",
       "    </tr>\n",
       "    <tr>\n",
       "      <th>0</th>\n",
       "      <td>Trí Thông Minh 'Có Giới Hạn' Của Chatgpt</td>\n",
       "      <td>https://tuoitre.vn/tri-thong-minh-co-gioi-han-...</td>\n",
       "    </tr>\n",
       "  </tbody>\n",
       "</table>\n",
       "</div>"
      ],
      "text/plain": [
       "                                            headline  \\\n",
       "0  Chatgpt Và Low-Code: Động Lực Kinh Doanh Từ Cô...   \n",
       "0  Baidu Tuyên Bố Ernie Bot Đánh Bại Chatgpt Tron...   \n",
       "0  Công Ty Mẹ Của Tiktok Phát Triển Chatbot Ai Th...   \n",
       "0  Chatgpt Và Ai Sáng Tạo: Phải Làm Gì Để Nâng Ca...   \n",
       "0  Ernie 3.5 Của Baidu Có Thực Sư Vượt Trội Hơn C...   \n",
       "0  Chatgpt Sắp Giành Hết Việc Của Nhân Viên Bán X...   \n",
       "0  Sử Dụng Chatgpt Để Dự Đoán Giải Độc Đắc Như Vi...   \n",
       "0  Chatgpt Vẫn Không Phù Hợp Với Con Người Khi Nó...   \n",
       "0             Chatgpt Thua Chatbot Baidu Ở Điểm Nào?   \n",
       "0  Apple Lập Kỷ Lục Vốn Hoá Mới, Công Ty Trung Qu...   \n",
       "0             Baidu Nói Chatbot Của Họ Thắng Chatgpt   \n",
       "0  Sốc! Chatgpt Làm Bài Thi Ngữ Văn Tốt Nghiệp Th...   \n",
       "0  Trích 'Muôn Kiếp Nhân Sinh 3': Chatgpt Hay Bộ ...   \n",
       "0  Cảnh Giác Với Chiêu Trò Lợi Dụng Chatgpt Để Xu...   \n",
       "0  Chatgpt - Cuộc Vui Chưa Tày Gang? - Tuổi Trẻ O...   \n",
       "0  Vì Sao Công Cụ Chatgpt Lại Phát Triển Nhanh Nh...   \n",
       "0  Chatgpt Có Ý Nghĩa Gì Đối Với Tương Lai Của Cá...   \n",
       "0  Thủ Đoạn Lợi Dụng Chatgpt Để Xuyên Tạc, Chống ...   \n",
       "0  Công Ty Trung Quốc Tuyên Bố Sở Hữu Chatbot Vượ...   \n",
       "0  Khai Thác Tối Đa Chatgpt: Đây Là Những Lời Nhắ...   \n",
       "0  Giải Pháp Khi Chatgpt Viết Giáo Trình Cho 20 B...   \n",
       "0  Lưu Ý Khi Người Việt Mua, Sử Dụng Tài Khoản Ch...   \n",
       "0      Người Việt Có Chịu Chi Tiền Cho Chatgpt Plus?   \n",
       "0          Chatgpt Bộc Lộ Điểm Yếu Ai Của Trung Quốc   \n",
       "0  Người Trẻ Làm It Có Sợ Chatgpt “Chiếm” Việc Tr...   \n",
       "0  Hiểu Và Kỳ Vọng Đúng Về Chatgpt - Tuổi Trẻ Online   \n",
       "0                              Chatgpt Sập Diện Rộng   \n",
       "0  Viện Trưởng Viện Cntt Nói Về Cách Ứng Xử Với C...   \n",
       "0  Chatgpt Và Cuộc Cạnh Tranh Trí Tuệ Nhân Tạo Gi...   \n",
       "0           Trí Thông Minh 'Có Giới Hạn' Của Chatgpt   \n",
       "\n",
       "                                                link  \n",
       "0  https://cafef.vn/chatgpt-va-low-code-dong-luc-...  \n",
       "0  https://vneconomy.vn/techconnect//baidu-tuyen-...  \n",
       "0  https://laodong.vn/cong-nghe/cong-ty-me-cua-ti...  \n",
       "0  https://vnreview.vn/thread/chatgpt-va-ai-sang-...  \n",
       "0  https://genk.vn/ernie-35-cua-baidu-co-thuc-su-...  \n",
       "0  https://xe.baogiaothong.vn/chatgpt-sap-gianh-h...  \n",
       "0  https://www.techz.vn/189-723-1-su-dung-chatgpt...  \n",
       "0  https://vnreview.vn/thread/chatgpt-van-khong-p...  \n",
       "0  https://thanhnien.vn/chatgpt-thua-chatbot-baid...  \n",
       "0  https://vietnamnet.vn/apple-lap-ky-luc-von-hoa...  \n",
       "0  https://vnexpress.net/baidu-noi-chatbot-cua-ho...  \n",
       "0  https://vnreview.vn/thread/soc-chatgpt-lam-bai...  \n",
       "0  https://vnexpress.net/trich-muon-kiep-nhan-sin...  \n",
       "0  https://dangcongsan.vn/tu-tuong-van-hoa/canh-g...  \n",
       "0  https://tuoitre.vn/chatgpt-cuoc-vui-chua-tay-g...  \n",
       "0  https://www.qdnd.vn/giao-duc-khoa-hoc/cac-van-...  \n",
       "0  https://vneconomy.vn/chatgpt-co-y-nghia-gi-doi...  \n",
       "0  https://cand.com.vn/Chong-dien-bien-hoa-binh/t...  \n",
       "0  https://cafef.vn/cong-ty-trung-quoc-tuyen-bo-s...  \n",
       "0  https://vnreview.vn/thread/khai-thac-toi-da-ch...  \n",
       "0  https://thanhnien.vn/giai-phap-khi-chatgpt-vie...  \n",
       "0  https://vneconomy.vn/luu-y-khi-nguoi-viet-mua-...  \n",
       "0  https://tuoitre.vn/nguoi-viet-co-chiu-chi-tien...  \n",
       "0  https://vnexpress.net/chatgpt-boc-lo-diem-yeu-...  \n",
       "0  https://thanhnien.vn/nguoi-tre-lam-it-co-so-ch...  \n",
       "0  https://tuoitre.vn/hieu-va-ky-vong-dung-ve-cha...  \n",
       "0  https://vnexpress.net/chatgpt-sap-dien-rong-45...  \n",
       "0  https://baochinhphu.vn/ung-xu-the-nao-voi-chat...  \n",
       "0  https://www.qdnd.vn/giao-duc-khoa-hoc/tin-tuc/...  \n",
       "0  https://tuoitre.vn/tri-thong-minh-co-gioi-han-...  "
      ]
     },
     "execution_count": 6,
     "metadata": {},
     "output_type": "execute_result"
    }
   ],
   "source": [
    "final_data = googleNews('chatgpt')\n",
    "final_data"
   ]
  },
  {
   "cell_type": "code",
   "execution_count": 5,
   "metadata": {},
   "outputs": [],
   "source": [
    "news = driver.find_element(by=By.LINK_TEXT, value='Tin tức')\n",
    "news.click()"
   ]
  },
  {
   "cell_type": "code",
   "execution_count": 9,
   "metadata": {},
   "outputs": [],
   "source": [
    "def scrape_google_new(query,no_of_records):\n",
    "\n",
    "    driver = webdriver.Chrome(service=Service(ChromeDriverManager().install()))\n",
    "    driver.set_page_load_timeout(20)\n",
    "\n",
    "    driver.get('https://www.google.com.vn/')\n",
    "    time.sleep(5)\n",
    "    \n",
    "    search = driver.find_elements(by=By.TAG_NAME, value='textarea')[0]\n",
    "    search.send_keys(str(query))\n",
    "    search.submit()\n",
    "    time.sleep(5)\n",
    "\n",
    "    news = driver.find_element(by=By.LINK_TEXT, value='Tin tức')\n",
    "    news.click()\n",
    "    time.sleep(5)\n",
    "\n",
    "    final_data = pd.DataFrame(columns=['headline','link'])\n",
    "    try:\n",
    "        for i in range(1,no_of_records):\n",
    "            driver.execute_script(\"window.scrollTo(0, document.body.scrollHeight);\")\n",
    "            time.sleep(3)\n",
    "            table = driver.find_element(by=By.TAG_NAME, value='table')\n",
    "            page = table.find_elements(by=By.TAG_NAME, value='td')\n",
    "            page[i].click()\n",
    "            time.sleep(3)\n",
    "\n",
    "            links = driver.find_elements(by=By.CLASS_NAME, value='SoaBEf')\n",
    "            for link in links:\n",
    "                url = link.find_elements(by=By.TAG_NAME, value='a')[0].get_attribute('href')\n",
    "                headline = link.find_elements(by=By.TAG_NAME, value='div')[1].text.split('\\n')[1].title()\n",
    "\n",
    "                final_data = pd.concat([final_data, pd.DataFrame.from_records([{\n",
    "                    'headline':headline,\n",
    "                    'link':url\n",
    "                    }])])\n",
    "    except Exception as e:\n",
    "        pass\n",
    "    return final_data"
   ]
  },
  {
   "cell_type": "code",
   "execution_count": 10,
   "metadata": {},
   "outputs": [],
   "source": [
    "data = scrape_google_new('layoff %',3)"
   ]
  },
  {
   "cell_type": "code",
   "execution_count": 21,
   "metadata": {},
   "outputs": [],
   "source": [
    "start = driver.find_element(by=By.CLASS_NAME, value='OouJcb')\n",
    "end = driver.find_element(by=By.CLASS_NAME, value='rzG2be')\n"
   ]
  },
  {
   "cell_type": "code",
   "execution_count": 22,
   "metadata": {},
   "outputs": [
    {
     "ename": "AttributeError",
     "evalue": "'list' object has no attribute 'sleep'",
     "output_type": "error",
     "traceback": [
      "\u001b[1;31m---------------------------------------------------------------------------\u001b[0m",
      "\u001b[1;31mAttributeError\u001b[0m                            Traceback (most recent call last)",
      "\u001b[1;32md:\\TKMedia\\document\\CrawlApps\\Modules\\googleNews.ipynb Cell 20\u001b[0m in \u001b[0;36m4\n\u001b[0;32m      <a href='vscode-notebook-cell:/d%3A/TKMedia/document/CrawlApps/Modules/googleNews.ipynb#X25sZmlsZQ%3D%3D?line=1'>2</a>\u001b[0m end\u001b[39m.\u001b[39msend_keys(\u001b[39m'\u001b[39m\u001b[39m7/30/2023\u001b[39m\u001b[39m'\u001b[39m)\n\u001b[0;32m      <a href='vscode-notebook-cell:/d%3A/TKMedia/document/CrawlApps/Modules/googleNews.ipynb#X25sZmlsZQ%3D%3D?line=2'>3</a>\u001b[0m find \u001b[39m=\u001b[39m driver\u001b[39m.\u001b[39mfind_element(by\u001b[39m=\u001b[39mBy\u001b[39m.\u001b[39mXPATH, value\u001b[39m=\u001b[39m\u001b[39m'\u001b[39m\u001b[39m//*[@id=\u001b[39m\u001b[39m\"\u001b[39m\u001b[39mT3kYXe\u001b[39m\u001b[39m\"\u001b[39m\u001b[39m]/g-button\u001b[39m\u001b[39m'\u001b[39m)\n\u001b[1;32m----> <a href='vscode-notebook-cell:/d%3A/TKMedia/document/CrawlApps/Modules/googleNews.ipynb#X25sZmlsZQ%3D%3D?line=3'>4</a>\u001b[0m time\u001b[39m.\u001b[39;49msleep(\u001b[39m2\u001b[39m)\n\u001b[0;32m      <a href='vscode-notebook-cell:/d%3A/TKMedia/document/CrawlApps/Modules/googleNews.ipynb#X25sZmlsZQ%3D%3D?line=4'>5</a>\u001b[0m find\u001b[39m.\u001b[39mclick()\n",
      "\u001b[1;31mAttributeError\u001b[0m: 'list' object has no attribute 'sleep'"
     ]
    }
   ],
   "source": [
    "start.send_keys('7/1/2023')\n",
    "end.send_keys('7/30/2023')\n",
    "find = driver.find_element(by=By.XPATH, value='//*[@id=\"T3kYXe\"]/g-button')\n",
    "# time.sleep(2)\n",
    "find.click()"
   ]
  },
  {
   "cell_type": "code",
   "execution_count": 15,
   "metadata": {},
   "outputs": [
    {
     "data": {
      "text/plain": [
       "'9 giờ trước'"
      ]
     },
     "execution_count": 15,
     "metadata": {},
     "output_type": "execute_result"
    }
   ],
   "source": [
    "links = driver.find_elements(by=By.CLASS_NAME, value='SoaBEf')\n",
    "links[0].find_elements(by=By.TAG_NAME, value='div')[10].text"
   ]
  },
  {
   "cell_type": "code",
   "execution_count": null,
   "metadata": {},
   "outputs": [],
   "source": []
  }
 ],
 "metadata": {
  "kernelspec": {
   "display_name": "Python 3",
   "language": "python",
   "name": "python3"
  },
  "language_info": {
   "codemirror_mode": {
    "name": "ipython",
    "version": 3
   },
   "file_extension": ".py",
   "mimetype": "text/x-python",
   "name": "python",
   "nbconvert_exporter": "python",
   "pygments_lexer": "ipython3",
   "version": "3.11.0"
  },
  "orig_nbformat": 4
 },
 "nbformat": 4,
 "nbformat_minor": 2
}
